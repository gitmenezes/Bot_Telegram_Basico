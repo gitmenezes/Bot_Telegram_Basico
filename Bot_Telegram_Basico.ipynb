{
 "cells": [
  {
   "cell_type": "markdown",
   "id": "560a41eb",
   "metadata": {},
   "source": [
    "#### Bot básico para Telegram com pyTelegramBotAPI\n",
    "[Biblioteca](https://pypi.org/project/pyTelegramBotAPI/#getting-started)\n",
    "\n",
    "*Alexandre Menezes Ferreira*\n",
    "> Telefone: 22-9-9822-9207"
   ]
  },
  {
   "cell_type": "code",
   "execution_count": 10,
   "id": "f00fa468",
   "metadata": {},
   "outputs": [
    {
     "name": "stdout",
     "output_type": "stream",
     "text": [
      "Requirement already satisfied: pyTelegramBotAPI in c:\\python27-18\\lib\\site-packages (4.5.1)\n",
      "Requirement already satisfied: requests in c:\\python27-18\\lib\\site-packages (from pyTelegramBotAPI) (2.26.0)\n",
      "Requirement already satisfied: chardet<5,>=3.0.2; python_version < \"3\" in c:\\python27-18\\lib\\site-packages (from requests->pyTelegramBotAPI) (4.0.0)\n",
      "Requirement already satisfied: idna<3,>=2.5; python_version < \"3\" in c:\\python27-18\\lib\\site-packages (from requests->pyTelegramBotAPI) (2.10)\n",
      "Requirement already satisfied: urllib3<1.27,>=1.21.1 in c:\\python27-18\\lib\\site-packages (from requests->pyTelegramBotAPI) (1.26.7)\n",
      "Requirement already satisfied: certifi>=2017.4.17 in c:\\python27-18\\lib\\site-packages (from requests->pyTelegramBotAPI) (2021.10.8)\n"
     ]
    },
    {
     "name": "stderr",
     "output_type": "stream",
     "text": [
      "DEPRECATION: Python 2.7 reached the end of its life on January 1st, 2020. Please upgrade your Python as Python 2.7 is no longer maintained. pip 21.0 will drop support for Python 2.7 in January 2021. More details about Python 2 support in pip can be found at https://pip.pypa.io/en/latest/development/release-process/#python-2-support pip 21.0 will remove support for this functionality.\n"
     ]
    }
   ],
   "source": [
    "#Instalação da biblioteca\n",
    "!pip install pyTelegramBotAPI"
   ]
  },
  {
   "cell_type": "code",
   "execution_count": 12,
   "id": "86338f53",
   "metadata": {},
   "outputs": [],
   "source": [
    "#Importação da Biblioteca\n",
    "import telebot"
   ]
  },
  {
   "cell_type": "markdown",
   "id": "06e85d58",
   "metadata": {},
   "source": [
    "### Criar Token Telegram\n",
    "> Se você ainda não tem uma conta no telegram, baixe-o no seu celular e em seguida instale e siga os passos abaixo: \n",
    "* Vá em pesquisar e digite __BotFather__\n",
    "* Acesse o botfather\n",
    "* digite /newbot\n",
    "* Escolha um nome para seu bot exemplo(__\"meubot\"__), a palavra bot tem que fazer parte do nome do seu bot, e este nome é único tal como um cpf.\n",
    "* Em seguida escolha um nome de usuário para o bot, também necessita da palavra __bot__ no nome escolhido\n",
    "* Feito tudo isso, anote seu Token e lembre-se ele deve ser secreto!\n",
    ">> "
   ]
  },
  {
   "cell_type": "code",
   "execution_count": 13,
   "id": "30935363",
   "metadata": {},
   "outputs": [],
   "source": [
    "#Próssimo passo\n",
    "#Definir a variável Token\n",
    "token = \"seu toquem aqui\""
   ]
  },
  {
   "cell_type": "code",
   "execution_count": 14,
   "id": "b0b3c03f",
   "metadata": {},
   "outputs": [],
   "source": [
    "#Start do bot com seu token\n",
    "bot =  telebot.TeleBot(token)#token = token que você criou e atribuiu a variável"
   ]
  },
  {
   "cell_type": "markdown",
   "id": "a0aed6fd",
   "metadata": {},
   "source": [
    "#### Mensagem padrão para quando o Bot iniciar"
   ]
  },
  {
   "cell_type": "code",
   "execution_count": 15,
   "id": "89b78aeb",
   "metadata": {},
   "outputs": [],
   "source": [
    "#Vamos criar agora a estrutura do bot\n",
    "#boas vindas\n",
    "@bot.message_handler(commands=['start'])#Decorador que inicia o Bot\n",
    "def Mensagm_de_boas_vindas(message):\n",
    "    bot.reply_to(message, \"Olá, todos são bem vindos!\")"
   ]
  },
  {
   "cell_type": "code",
   "execution_count": 19,
   "id": "c33ea3ef",
   "metadata": {},
   "outputs": [],
   "source": [
    "#Coletor de mensagens recebidas no bot\n",
    "def Todas_as_mensagens(msg):\n",
    "    return True"
   ]
  },
  {
   "cell_type": "code",
   "execution_count": 20,
   "id": "ffc6f856",
   "metadata": {},
   "outputs": [],
   "source": [
    "@bot.message_handler(func=Todas_as_mensagens)\n",
    "def handle_text_doc(message):\n",
    "    if message.text == \"oi\": #Cliente diz\n",
    "        bot.reply_to(message,\"Em que posso ajudar?\")#Bot Responde\n",
    "    if message.text == \"Olá\": #Cliente diz\n",
    "        bot.reply_to(message,\"Seja bem vindo(a)\")#Bot Responde\n",
    "    if message.text == \"Oie\": # Cliente diz\n",
    "        bot.reply_to(message,\"Saudações\")#Bot Responde\n",
    "    if message.text == \"iae\": # Cliente diz\n",
    "        bot.reply_to(message,\"Blz, posso ajudar?\") #Bot Responde\n"
   ]
  },
  {
   "cell_type": "code",
   "execution_count": 9,
   "id": "803fa7ac",
   "metadata": {
    "collapsed": true
   },
   "outputs": [
    {
     "name": "stderr",
     "output_type": "stream",
     "text": [
      "2022-05-15 19:42:47,685 (__init__.py:659 MainThread) ERROR - TeleBot: \"Threaded polling exception: A request to the Telegram API was unsuccessful. Error code: 404. Description: Not Found\"\n",
      "2022-05-15 19:42:47,739 (__init__.py:661 MainThread) ERROR - TeleBot: \"Exception traceback:\n",
      "Traceback (most recent call last):\n",
      "  File \"E:\\APPs\\telebot\\pyTelegramBotAPI\\telebot\\__init__.py\", line 649, in __threaded_polling\n",
      "    polling_thread.raise_exceptions()\n",
      "  File \"E:\\APPs\\telebot\\pyTelegramBotAPI\\telebot\\util.py\", line 107, in raise_exceptions\n",
      "    raise self.exception_info\n",
      "  File \"E:\\APPs\\telebot\\pyTelegramBotAPI\\telebot\\util.py\", line 89, in run\n",
      "    task(*args, **kwargs)\n",
      "  File \"E:\\APPs\\telebot\\pyTelegramBotAPI\\telebot\\__init__.py\", line 359, in __retrieve_updates\n",
      "    updates = self.get_updates(offset=(self.last_update_id + 1),\n",
      "  File \"E:\\APPs\\telebot\\pyTelegramBotAPI\\telebot\\__init__.py\", line 337, in get_updates\n",
      "    json_updates = apihelper.get_updates(self.token, offset, limit, timeout, allowed_updates, long_polling_timeout)\n",
      "  File \"E:\\APPs\\telebot\\pyTelegramBotAPI\\telebot\\apihelper.py\", line 322, in get_updates\n",
      "    return _make_request(token, method_url, params=payload)\n",
      "  File \"E:\\APPs\\telebot\\pyTelegramBotAPI\\telebot\\apihelper.py\", line 152, in _make_request\n",
      "    json_result = _check_result(method_name, result)\n",
      "  File \"E:\\APPs\\telebot\\pyTelegramBotAPI\\telebot\\apihelper.py\", line 179, in _check_result\n",
      "    raise ApiTelegramException(method_name, result, result_json)\n",
      "telebot.apihelper.ApiTelegramException: A request to the Telegram API was unsuccessful. Error code: 404. Description: Not Found\n",
      "\"\n",
      "2022-05-15 19:42:48,215 (__init__.py:659 MainThread) ERROR - TeleBot: \"Threaded polling exception: A request to the Telegram API was unsuccessful. Error code: 404. Description: Not Found\"\n",
      "2022-05-15 19:42:48,223 (__init__.py:661 MainThread) ERROR - TeleBot: \"Exception traceback:\n",
      "Traceback (most recent call last):\n",
      "  File \"E:\\APPs\\telebot\\pyTelegramBotAPI\\telebot\\__init__.py\", line 649, in __threaded_polling\n",
      "    polling_thread.raise_exceptions()\n",
      "  File \"E:\\APPs\\telebot\\pyTelegramBotAPI\\telebot\\util.py\", line 107, in raise_exceptions\n",
      "    raise self.exception_info\n",
      "  File \"E:\\APPs\\telebot\\pyTelegramBotAPI\\telebot\\util.py\", line 89, in run\n",
      "    task(*args, **kwargs)\n",
      "  File \"E:\\APPs\\telebot\\pyTelegramBotAPI\\telebot\\__init__.py\", line 359, in __retrieve_updates\n",
      "    updates = self.get_updates(offset=(self.last_update_id + 1),\n",
      "  File \"E:\\APPs\\telebot\\pyTelegramBotAPI\\telebot\\__init__.py\", line 337, in get_updates\n",
      "    json_updates = apihelper.get_updates(self.token, offset, limit, timeout, allowed_updates, long_polling_timeout)\n",
      "  File \"E:\\APPs\\telebot\\pyTelegramBotAPI\\telebot\\apihelper.py\", line 322, in get_updates\n",
      "    return _make_request(token, method_url, params=payload)\n",
      "  File \"E:\\APPs\\telebot\\pyTelegramBotAPI\\telebot\\apihelper.py\", line 152, in _make_request\n",
      "    json_result = _check_result(method_name, result)\n",
      "  File \"E:\\APPs\\telebot\\pyTelegramBotAPI\\telebot\\apihelper.py\", line 179, in _check_result\n",
      "    raise ApiTelegramException(method_name, result, result_json)\n",
      "telebot.apihelper.ApiTelegramException: A request to the Telegram API was unsuccessful. Error code: 404. Description: Not Found\n",
      "\"\n",
      "2022-05-15 19:42:49,006 (__init__.py:659 MainThread) ERROR - TeleBot: \"Threaded polling exception: A request to the Telegram API was unsuccessful. Error code: 404. Description: Not Found\"\n",
      "2022-05-15 19:42:49,019 (__init__.py:661 MainThread) ERROR - TeleBot: \"Exception traceback:\n",
      "Traceback (most recent call last):\n",
      "  File \"E:\\APPs\\telebot\\pyTelegramBotAPI\\telebot\\__init__.py\", line 649, in __threaded_polling\n",
      "    polling_thread.raise_exceptions()\n",
      "  File \"E:\\APPs\\telebot\\pyTelegramBotAPI\\telebot\\util.py\", line 107, in raise_exceptions\n",
      "    raise self.exception_info\n",
      "  File \"E:\\APPs\\telebot\\pyTelegramBotAPI\\telebot\\util.py\", line 89, in run\n",
      "    task(*args, **kwargs)\n",
      "  File \"E:\\APPs\\telebot\\pyTelegramBotAPI\\telebot\\__init__.py\", line 359, in __retrieve_updates\n",
      "    updates = self.get_updates(offset=(self.last_update_id + 1),\n",
      "  File \"E:\\APPs\\telebot\\pyTelegramBotAPI\\telebot\\__init__.py\", line 337, in get_updates\n",
      "    json_updates = apihelper.get_updates(self.token, offset, limit, timeout, allowed_updates, long_polling_timeout)\n",
      "  File \"E:\\APPs\\telebot\\pyTelegramBotAPI\\telebot\\apihelper.py\", line 322, in get_updates\n",
      "    return _make_request(token, method_url, params=payload)\n",
      "  File \"E:\\APPs\\telebot\\pyTelegramBotAPI\\telebot\\apihelper.py\", line 152, in _make_request\n",
      "    json_result = _check_result(method_name, result)\n",
      "  File \"E:\\APPs\\telebot\\pyTelegramBotAPI\\telebot\\apihelper.py\", line 179, in _check_result\n",
      "    raise ApiTelegramException(method_name, result, result_json)\n",
      "telebot.apihelper.ApiTelegramException: A request to the Telegram API was unsuccessful. Error code: 404. Description: Not Found\n",
      "\"\n",
      "2022-05-15 19:42:50,285 (__init__.py:659 MainThread) ERROR - TeleBot: \"Threaded polling exception: A request to the Telegram API was unsuccessful. Error code: 404. Description: Not Found\"\n",
      "2022-05-15 19:42:50,289 (__init__.py:661 MainThread) ERROR - TeleBot: \"Exception traceback:\n",
      "Traceback (most recent call last):\n",
      "  File \"E:\\APPs\\telebot\\pyTelegramBotAPI\\telebot\\__init__.py\", line 649, in __threaded_polling\n",
      "    polling_thread.raise_exceptions()\n",
      "  File \"E:\\APPs\\telebot\\pyTelegramBotAPI\\telebot\\util.py\", line 107, in raise_exceptions\n",
      "    raise self.exception_info\n",
      "  File \"E:\\APPs\\telebot\\pyTelegramBotAPI\\telebot\\util.py\", line 89, in run\n",
      "    task(*args, **kwargs)\n",
      "  File \"E:\\APPs\\telebot\\pyTelegramBotAPI\\telebot\\__init__.py\", line 359, in __retrieve_updates\n",
      "    updates = self.get_updates(offset=(self.last_update_id + 1),\n",
      "  File \"E:\\APPs\\telebot\\pyTelegramBotAPI\\telebot\\__init__.py\", line 337, in get_updates\n",
      "    json_updates = apihelper.get_updates(self.token, offset, limit, timeout, allowed_updates, long_polling_timeout)\n",
      "  File \"E:\\APPs\\telebot\\pyTelegramBotAPI\\telebot\\apihelper.py\", line 322, in get_updates\n",
      "    return _make_request(token, method_url, params=payload)\n",
      "  File \"E:\\APPs\\telebot\\pyTelegramBotAPI\\telebot\\apihelper.py\", line 152, in _make_request\n",
      "    json_result = _check_result(method_name, result)\n",
      "  File \"E:\\APPs\\telebot\\pyTelegramBotAPI\\telebot\\apihelper.py\", line 179, in _check_result\n",
      "    raise ApiTelegramException(method_name, result, result_json)\n",
      "telebot.apihelper.ApiTelegramException: A request to the Telegram API was unsuccessful. Error code: 404. Description: Not Found\n",
      "\"\n",
      "2022-05-15 19:42:52,510 (__init__.py:659 MainThread) ERROR - TeleBot: \"Threaded polling exception: A request to the Telegram API was unsuccessful. Error code: 404. Description: Not Found\"\n",
      "2022-05-15 19:42:52,515 (__init__.py:661 MainThread) ERROR - TeleBot: \"Exception traceback:\n",
      "Traceback (most recent call last):\n",
      "  File \"E:\\APPs\\telebot\\pyTelegramBotAPI\\telebot\\__init__.py\", line 649, in __threaded_polling\n",
      "    polling_thread.raise_exceptions()\n",
      "  File \"E:\\APPs\\telebot\\pyTelegramBotAPI\\telebot\\util.py\", line 107, in raise_exceptions\n",
      "    raise self.exception_info\n",
      "  File \"E:\\APPs\\telebot\\pyTelegramBotAPI\\telebot\\util.py\", line 89, in run\n",
      "    task(*args, **kwargs)\n",
      "  File \"E:\\APPs\\telebot\\pyTelegramBotAPI\\telebot\\__init__.py\", line 359, in __retrieve_updates\n",
      "    updates = self.get_updates(offset=(self.last_update_id + 1),\n",
      "  File \"E:\\APPs\\telebot\\pyTelegramBotAPI\\telebot\\__init__.py\", line 337, in get_updates\n",
      "    json_updates = apihelper.get_updates(self.token, offset, limit, timeout, allowed_updates, long_polling_timeout)\n",
      "  File \"E:\\APPs\\telebot\\pyTelegramBotAPI\\telebot\\apihelper.py\", line 322, in get_updates\n",
      "    return _make_request(token, method_url, params=payload)\n",
      "  File \"E:\\APPs\\telebot\\pyTelegramBotAPI\\telebot\\apihelper.py\", line 152, in _make_request\n",
      "    json_result = _check_result(method_name, result)\n",
      "  File \"E:\\APPs\\telebot\\pyTelegramBotAPI\\telebot\\apihelper.py\", line 179, in _check_result\n",
      "    raise ApiTelegramException(method_name, result, result_json)\n",
      "telebot.apihelper.ApiTelegramException: A request to the Telegram API was unsuccessful. Error code: 404. Description: Not Found\n",
      "\"\n",
      "2022-05-15 19:42:56,742 (__init__.py:659 MainThread) ERROR - TeleBot: \"Threaded polling exception: A request to the Telegram API was unsuccessful. Error code: 404. Description: Not Found\"\n"
     ]
    },
    {
     "name": "stderr",
     "output_type": "stream",
     "text": [
      "2022-05-15 19:42:56,747 (__init__.py:661 MainThread) ERROR - TeleBot: \"Exception traceback:\n",
      "Traceback (most recent call last):\n",
      "  File \"E:\\APPs\\telebot\\pyTelegramBotAPI\\telebot\\__init__.py\", line 649, in __threaded_polling\n",
      "    polling_thread.raise_exceptions()\n",
      "  File \"E:\\APPs\\telebot\\pyTelegramBotAPI\\telebot\\util.py\", line 107, in raise_exceptions\n",
      "    raise self.exception_info\n",
      "  File \"E:\\APPs\\telebot\\pyTelegramBotAPI\\telebot\\util.py\", line 89, in run\n",
      "    task(*args, **kwargs)\n",
      "  File \"E:\\APPs\\telebot\\pyTelegramBotAPI\\telebot\\__init__.py\", line 359, in __retrieve_updates\n",
      "    updates = self.get_updates(offset=(self.last_update_id + 1),\n",
      "  File \"E:\\APPs\\telebot\\pyTelegramBotAPI\\telebot\\__init__.py\", line 337, in get_updates\n",
      "    json_updates = apihelper.get_updates(self.token, offset, limit, timeout, allowed_updates, long_polling_timeout)\n",
      "  File \"E:\\APPs\\telebot\\pyTelegramBotAPI\\telebot\\apihelper.py\", line 322, in get_updates\n",
      "    return _make_request(token, method_url, params=payload)\n",
      "  File \"E:\\APPs\\telebot\\pyTelegramBotAPI\\telebot\\apihelper.py\", line 152, in _make_request\n",
      "    json_result = _check_result(method_name, result)\n",
      "  File \"E:\\APPs\\telebot\\pyTelegramBotAPI\\telebot\\apihelper.py\", line 179, in _check_result\n",
      "    raise ApiTelegramException(method_name, result, result_json)\n",
      "telebot.apihelper.ApiTelegramException: A request to the Telegram API was unsuccessful. Error code: 404. Description: Not Found\n",
      "\"\n",
      "ERROR:root:Internal Python error in the inspect module.\n",
      "Below is the traceback from this internal error.\n",
      "\n"
     ]
    },
    {
     "name": "stdout",
     "output_type": "stream",
     "text": [
      "Traceback (most recent call last):\n",
      "  File \"E:\\APPs\\telebot\\pyTelegramBotAPI\\telebot\\__init__.py\", line 649, in __threaded_polling\n",
      "    polling_thread.raise_exceptions()\n",
      "  File \"E:\\APPs\\telebot\\pyTelegramBotAPI\\telebot\\util.py\", line 107, in raise_exceptions\n",
      "    raise self.exception_info\n",
      "  File \"E:\\APPs\\telebot\\pyTelegramBotAPI\\telebot\\util.py\", line 89, in run\n",
      "    task(*args, **kwargs)\n",
      "  File \"E:\\APPs\\telebot\\pyTelegramBotAPI\\telebot\\__init__.py\", line 359, in __retrieve_updates\n",
      "    updates = self.get_updates(offset=(self.last_update_id + 1),\n",
      "  File \"E:\\APPs\\telebot\\pyTelegramBotAPI\\telebot\\__init__.py\", line 337, in get_updates\n",
      "    json_updates = apihelper.get_updates(self.token, offset, limit, timeout, allowed_updates, long_polling_timeout)\n",
      "  File \"E:\\APPs\\telebot\\pyTelegramBotAPI\\telebot\\apihelper.py\", line 322, in get_updates\n",
      "    return _make_request(token, method_url, params=payload)\n",
      "  File \"E:\\APPs\\telebot\\pyTelegramBotAPI\\telebot\\apihelper.py\", line 152, in _make_request\n",
      "    json_result = _check_result(method_name, result)\n",
      "  File \"E:\\APPs\\telebot\\pyTelegramBotAPI\\telebot\\apihelper.py\", line 179, in _check_result\n",
      "    raise ApiTelegramException(method_name, result, result_json)\n",
      "telebot.apihelper.ApiTelegramException: A request to the Telegram API was unsuccessful. Error code: 404. Description: Not Found\n",
      "\n",
      "During handling of the above exception, another exception occurred:\n",
      "\n",
      "Traceback (most recent call last):\n",
      "  File \"C:\\Users\\Familia\\AppData\\Roaming\\Python\\Python39\\site-packages\\IPython\\core\\interactiveshell.py\", line 3441, in run_code\n",
      "    exec(code_obj, self.user_global_ns, self.user_ns)\n",
      "  File \"C:\\Users\\Familia\\AppData\\Local\\Temp/ipykernel_6772/483521751.py\", line 2, in <module>\n",
      "    bot.infinity_polling()\n",
      "  File \"E:\\APPs\\telebot\\pyTelegramBotAPI\\telebot\\__init__.py\", line 569, in infinity_polling\n",
      "    self.polling(non_stop=True, timeout=timeout, long_polling_timeout=long_polling_timeout,\n",
      "  File \"E:\\APPs\\telebot\\pyTelegramBotAPI\\telebot\\__init__.py\", line 620, in polling\n",
      "    self.__threaded_polling(non_stop=non_stop, interval=interval, timeout=timeout, long_polling_timeout=long_polling_timeout,\n",
      "  File \"E:\\APPs\\telebot\\pyTelegramBotAPI\\telebot\\__init__.py\", line 669, in __threaded_polling\n",
      "    time.sleep(error_interval)\n",
      "KeyboardInterrupt\n",
      "\n",
      "During handling of the above exception, another exception occurred:\n",
      "\n",
      "Traceback (most recent call last):\n",
      "  File \"C:\\Users\\Familia\\AppData\\Roaming\\Python\\Python39\\site-packages\\IPython\\core\\interactiveshell.py\", line 2061, in showtraceback\n",
      "    stb = value._render_traceback_()\n",
      "AttributeError: 'KeyboardInterrupt' object has no attribute '_render_traceback_'\n",
      "\n",
      "During handling of the above exception, another exception occurred:\n",
      "\n",
      "Traceback (most recent call last):\n",
      "  File \"C:\\Users\\Familia\\AppData\\Roaming\\Python\\Python39\\site-packages\\IPython\\core\\ultratb.py\", line 1101, in get_records\n",
      "    return _fixed_getinnerframes(etb, number_of_lines_of_context, tb_offset)\n",
      "  File \"C:\\Users\\Familia\\AppData\\Roaming\\Python\\Python39\\site-packages\\IPython\\core\\ultratb.py\", line 248, in wrapped\n",
      "    return f(*args, **kwargs)\n",
      "  File \"C:\\Users\\Familia\\AppData\\Roaming\\Python\\Python39\\site-packages\\IPython\\core\\ultratb.py\", line 281, in _fixed_getinnerframes\n",
      "    records = fix_frame_records_filenames(inspect.getinnerframes(etb, context))\n",
      "  File \"C:\\Users\\Familia\\anaconda300\\lib\\inspect.py\", line 1541, in getinnerframes\n",
      "    frameinfo = (tb.tb_frame,) + getframeinfo(tb, context)\n",
      "  File \"C:\\Users\\Familia\\anaconda300\\lib\\inspect.py\", line 1499, in getframeinfo\n",
      "    filename = getsourcefile(frame) or getfile(frame)\n",
      "  File \"C:\\Users\\Familia\\anaconda300\\lib\\inspect.py\", line 709, in getsourcefile\n",
      "    if getattr(getmodule(object, filename), '__loader__', None) is not None:\n",
      "  File \"C:\\Users\\Familia\\anaconda300\\lib\\inspect.py\", line 752, in getmodule\n",
      "    f = getabsfile(module)\n",
      "  File \"C:\\Users\\Familia\\anaconda300\\lib\\inspect.py\", line 721, in getabsfile\n",
      "    _filename = getsourcefile(object) or getfile(object)\n",
      "  File \"C:\\Users\\Familia\\anaconda300\\lib\\inspect.py\", line 706, in getsourcefile\n",
      "    if os.path.exists(filename):\n",
      "  File \"C:\\Users\\Familia\\anaconda300\\lib\\genericpath.py\", line 19, in exists\n",
      "    os.stat(path)\n",
      "KeyboardInterrupt\n"
     ]
    },
    {
     "ename": "TypeError",
     "evalue": "object of type 'NoneType' has no len()",
     "output_type": "error",
     "traceback": [
      "\u001b[1;31m---------------------------------------------------------------------------\u001b[0m",
      "\u001b[1;31mApiTelegramException\u001b[0m                      Traceback (most recent call last)",
      "\u001b[1;32mE:\\APPs\\telebot\\pyTelegramBotAPI\\telebot\\__init__.py\u001b[0m in \u001b[0;36m__threaded_polling\u001b[1;34m(self, non_stop, interval, timeout, long_polling_timeout, logger_level, allowed_updates)\u001b[0m\n\u001b[0;32m    648\u001b[0m                 \u001b[0mor_event\u001b[0m\u001b[1;33m.\u001b[0m\u001b[0mwait\u001b[0m\u001b[1;33m(\u001b[0m\u001b[1;33m)\u001b[0m  \u001b[1;31m# wait for polling thread finish, polling thread error or thread pool error\u001b[0m\u001b[1;33m\u001b[0m\u001b[1;33m\u001b[0m\u001b[0m\n\u001b[1;32m--> 649\u001b[1;33m                 \u001b[0mpolling_thread\u001b[0m\u001b[1;33m.\u001b[0m\u001b[0mraise_exceptions\u001b[0m\u001b[1;33m(\u001b[0m\u001b[1;33m)\u001b[0m\u001b[1;33m\u001b[0m\u001b[1;33m\u001b[0m\u001b[0m\n\u001b[0m\u001b[0;32m    650\u001b[0m                 \u001b[0mself\u001b[0m\u001b[1;33m.\u001b[0m\u001b[0mworker_pool\u001b[0m\u001b[1;33m.\u001b[0m\u001b[0mraise_exceptions\u001b[0m\u001b[1;33m(\u001b[0m\u001b[1;33m)\u001b[0m\u001b[1;33m\u001b[0m\u001b[1;33m\u001b[0m\u001b[0m\n",
      "\u001b[1;32mE:\\APPs\\telebot\\pyTelegramBotAPI\\telebot\\util.py\u001b[0m in \u001b[0;36mraise_exceptions\u001b[1;34m(self)\u001b[0m\n\u001b[0;32m    106\u001b[0m         \u001b[1;32mif\u001b[0m \u001b[0mself\u001b[0m\u001b[1;33m.\u001b[0m\u001b[0mexception_event\u001b[0m\u001b[1;33m.\u001b[0m\u001b[0mis_set\u001b[0m\u001b[1;33m(\u001b[0m\u001b[1;33m)\u001b[0m\u001b[1;33m:\u001b[0m\u001b[1;33m\u001b[0m\u001b[1;33m\u001b[0m\u001b[0m\n\u001b[1;32m--> 107\u001b[1;33m             \u001b[1;32mraise\u001b[0m \u001b[0mself\u001b[0m\u001b[1;33m.\u001b[0m\u001b[0mexception_info\u001b[0m\u001b[1;33m\u001b[0m\u001b[1;33m\u001b[0m\u001b[0m\n\u001b[0m\u001b[0;32m    108\u001b[0m \u001b[1;33m\u001b[0m\u001b[0m\n",
      "\u001b[1;32mE:\\APPs\\telebot\\pyTelegramBotAPI\\telebot\\util.py\u001b[0m in \u001b[0;36mrun\u001b[1;34m(self)\u001b[0m\n\u001b[0;32m     88\u001b[0m \u001b[1;33m\u001b[0m\u001b[0m\n\u001b[1;32m---> 89\u001b[1;33m                 \u001b[0mtask\u001b[0m\u001b[1;33m(\u001b[0m\u001b[1;33m*\u001b[0m\u001b[0margs\u001b[0m\u001b[1;33m,\u001b[0m \u001b[1;33m**\u001b[0m\u001b[0mkwargs\u001b[0m\u001b[1;33m)\u001b[0m\u001b[1;33m\u001b[0m\u001b[1;33m\u001b[0m\u001b[0m\n\u001b[0m\u001b[0;32m     90\u001b[0m                 \u001b[0mlogger\u001b[0m\u001b[1;33m.\u001b[0m\u001b[0mdebug\u001b[0m\u001b[1;33m(\u001b[0m\u001b[1;34m\"Task complete\"\u001b[0m\u001b[1;33m)\u001b[0m\u001b[1;33m\u001b[0m\u001b[1;33m\u001b[0m\u001b[0m\n",
      "\u001b[1;32mE:\\APPs\\telebot\\pyTelegramBotAPI\\telebot\\__init__.py\u001b[0m in \u001b[0;36m__retrieve_updates\u001b[1;34m(self, timeout, long_polling_timeout, allowed_updates)\u001b[0m\n\u001b[0;32m    358\u001b[0m             \u001b[0mself\u001b[0m\u001b[1;33m.\u001b[0m\u001b[0mskip_pending\u001b[0m \u001b[1;33m=\u001b[0m \u001b[1;32mFalse\u001b[0m\u001b[1;33m\u001b[0m\u001b[1;33m\u001b[0m\u001b[0m\n\u001b[1;32m--> 359\u001b[1;33m         updates = self.get_updates(offset=(self.last_update_id + 1), \n\u001b[0m\u001b[0;32m    360\u001b[0m                                    \u001b[0mallowed_updates\u001b[0m\u001b[1;33m=\u001b[0m\u001b[0mallowed_updates\u001b[0m\u001b[1;33m,\u001b[0m\u001b[1;33m\u001b[0m\u001b[1;33m\u001b[0m\u001b[0m\n",
      "\u001b[1;32mE:\\APPs\\telebot\\pyTelegramBotAPI\\telebot\\__init__.py\u001b[0m in \u001b[0;36mget_updates\u001b[1;34m(self, offset, limit, timeout, allowed_updates, long_polling_timeout)\u001b[0m\n\u001b[0;32m    336\u001b[0m         \"\"\"\n\u001b[1;32m--> 337\u001b[1;33m         \u001b[0mjson_updates\u001b[0m \u001b[1;33m=\u001b[0m \u001b[0mapihelper\u001b[0m\u001b[1;33m.\u001b[0m\u001b[0mget_updates\u001b[0m\u001b[1;33m(\u001b[0m\u001b[0mself\u001b[0m\u001b[1;33m.\u001b[0m\u001b[0mtoken\u001b[0m\u001b[1;33m,\u001b[0m \u001b[0moffset\u001b[0m\u001b[1;33m,\u001b[0m \u001b[0mlimit\u001b[0m\u001b[1;33m,\u001b[0m \u001b[0mtimeout\u001b[0m\u001b[1;33m,\u001b[0m \u001b[0mallowed_updates\u001b[0m\u001b[1;33m,\u001b[0m \u001b[0mlong_polling_timeout\u001b[0m\u001b[1;33m)\u001b[0m\u001b[1;33m\u001b[0m\u001b[1;33m\u001b[0m\u001b[0m\n\u001b[0m\u001b[0;32m    338\u001b[0m         \u001b[1;32mreturn\u001b[0m \u001b[1;33m[\u001b[0m\u001b[0mtypes\u001b[0m\u001b[1;33m.\u001b[0m\u001b[0mUpdate\u001b[0m\u001b[1;33m.\u001b[0m\u001b[0mde_json\u001b[0m\u001b[1;33m(\u001b[0m\u001b[0mju\u001b[0m\u001b[1;33m)\u001b[0m \u001b[1;32mfor\u001b[0m \u001b[0mju\u001b[0m \u001b[1;32min\u001b[0m \u001b[0mjson_updates\u001b[0m\u001b[1;33m]\u001b[0m\u001b[1;33m\u001b[0m\u001b[1;33m\u001b[0m\u001b[0m\n",
      "\u001b[1;32mE:\\APPs\\telebot\\pyTelegramBotAPI\\telebot\\apihelper.py\u001b[0m in \u001b[0;36mget_updates\u001b[1;34m(token, offset, limit, timeout, allowed_updates, long_polling_timeout)\u001b[0m\n\u001b[0;32m    321\u001b[0m         \u001b[0mpayload\u001b[0m\u001b[1;33m[\u001b[0m\u001b[1;34m'allowed_updates'\u001b[0m\u001b[1;33m]\u001b[0m \u001b[1;33m=\u001b[0m \u001b[0mjson\u001b[0m\u001b[1;33m.\u001b[0m\u001b[0mdumps\u001b[0m\u001b[1;33m(\u001b[0m\u001b[0mallowed_updates\u001b[0m\u001b[1;33m)\u001b[0m\u001b[1;33m\u001b[0m\u001b[1;33m\u001b[0m\u001b[0m\n\u001b[1;32m--> 322\u001b[1;33m     \u001b[1;32mreturn\u001b[0m \u001b[0m_make_request\u001b[0m\u001b[1;33m(\u001b[0m\u001b[0mtoken\u001b[0m\u001b[1;33m,\u001b[0m \u001b[0mmethod_url\u001b[0m\u001b[1;33m,\u001b[0m \u001b[0mparams\u001b[0m\u001b[1;33m=\u001b[0m\u001b[0mpayload\u001b[0m\u001b[1;33m)\u001b[0m\u001b[1;33m\u001b[0m\u001b[1;33m\u001b[0m\u001b[0m\n\u001b[0m\u001b[0;32m    323\u001b[0m \u001b[1;33m\u001b[0m\u001b[0m\n",
      "\u001b[1;32mE:\\APPs\\telebot\\pyTelegramBotAPI\\telebot\\apihelper.py\u001b[0m in \u001b[0;36m_make_request\u001b[1;34m(token, method_name, method, params, files)\u001b[0m\n\u001b[0;32m    151\u001b[0m \u001b[1;33m\u001b[0m\u001b[0m\n\u001b[1;32m--> 152\u001b[1;33m     \u001b[0mjson_result\u001b[0m \u001b[1;33m=\u001b[0m \u001b[0m_check_result\u001b[0m\u001b[1;33m(\u001b[0m\u001b[0mmethod_name\u001b[0m\u001b[1;33m,\u001b[0m \u001b[0mresult\u001b[0m\u001b[1;33m)\u001b[0m\u001b[1;33m\u001b[0m\u001b[1;33m\u001b[0m\u001b[0m\n\u001b[0m\u001b[0;32m    153\u001b[0m     \u001b[1;32mif\u001b[0m \u001b[0mjson_result\u001b[0m\u001b[1;33m:\u001b[0m\u001b[1;33m\u001b[0m\u001b[1;33m\u001b[0m\u001b[0m\n",
      "\u001b[1;32mE:\\APPs\\telebot\\pyTelegramBotAPI\\telebot\\apihelper.py\u001b[0m in \u001b[0;36m_check_result\u001b[1;34m(method_name, result)\u001b[0m\n\u001b[0;32m    178\u001b[0m         \u001b[1;32mif\u001b[0m \u001b[1;32mnot\u001b[0m \u001b[0mresult_json\u001b[0m\u001b[1;33m[\u001b[0m\u001b[1;34m'ok'\u001b[0m\u001b[1;33m]\u001b[0m\u001b[1;33m:\u001b[0m\u001b[1;33m\u001b[0m\u001b[1;33m\u001b[0m\u001b[0m\n\u001b[1;32m--> 179\u001b[1;33m             \u001b[1;32mraise\u001b[0m \u001b[0mApiTelegramException\u001b[0m\u001b[1;33m(\u001b[0m\u001b[0mmethod_name\u001b[0m\u001b[1;33m,\u001b[0m \u001b[0mresult\u001b[0m\u001b[1;33m,\u001b[0m \u001b[0mresult_json\u001b[0m\u001b[1;33m)\u001b[0m\u001b[1;33m\u001b[0m\u001b[1;33m\u001b[0m\u001b[0m\n\u001b[0m\u001b[0;32m    180\u001b[0m \u001b[1;33m\u001b[0m\u001b[0m\n",
      "\u001b[1;31mApiTelegramException\u001b[0m: A request to the Telegram API was unsuccessful. Error code: 404. Description: Not Found",
      "\nDuring handling of the above exception, another exception occurred:\n",
      "\u001b[1;31mKeyboardInterrupt\u001b[0m                         Traceback (most recent call last)",
      "    \u001b[1;31m[... skipping hidden 1 frame]\u001b[0m\n",
      "\u001b[1;32m~\\AppData\\Local\\Temp/ipykernel_6772/483521751.py\u001b[0m in \u001b[0;36m<module>\u001b[1;34m\u001b[0m\n\u001b[0;32m      1\u001b[0m \u001b[1;31m# Este é o fechamento do código, com ele seu código responderá infinitamente ao Bot\u001b[0m\u001b[1;33m\u001b[0m\u001b[1;33m\u001b[0m\u001b[0m\n\u001b[1;32m----> 2\u001b[1;33m \u001b[0mbot\u001b[0m\u001b[1;33m.\u001b[0m\u001b[0minfinity_polling\u001b[0m\u001b[1;33m(\u001b[0m\u001b[1;33m)\u001b[0m\u001b[1;33m\u001b[0m\u001b[1;33m\u001b[0m\u001b[0m\n\u001b[0m",
      "\u001b[1;32mE:\\APPs\\telebot\\pyTelegramBotAPI\\telebot\\__init__.py\u001b[0m in \u001b[0;36minfinity_polling\u001b[1;34m(self, timeout, skip_pending, long_polling_timeout, logger_level, allowed_updates, *args, **kwargs)\u001b[0m\n\u001b[0;32m    568\u001b[0m             \u001b[1;32mtry\u001b[0m\u001b[1;33m:\u001b[0m\u001b[1;33m\u001b[0m\u001b[1;33m\u001b[0m\u001b[0m\n\u001b[1;32m--> 569\u001b[1;33m                 self.polling(non_stop=True, timeout=timeout, long_polling_timeout=long_polling_timeout,\n\u001b[0m\u001b[0;32m    570\u001b[0m                              logger_level=logger_level, allowed_updates=allowed_updates, *args, **kwargs)\n",
      "\u001b[1;32mE:\\APPs\\telebot\\pyTelegramBotAPI\\telebot\\__init__.py\u001b[0m in \u001b[0;36mpolling\u001b[1;34m(self, non_stop, skip_pending, interval, timeout, long_polling_timeout, logger_level, allowed_updates, none_stop)\u001b[0m\n\u001b[0;32m    619\u001b[0m         \u001b[1;32mif\u001b[0m \u001b[0mself\u001b[0m\u001b[1;33m.\u001b[0m\u001b[0mthreaded\u001b[0m\u001b[1;33m:\u001b[0m\u001b[1;33m\u001b[0m\u001b[1;33m\u001b[0m\u001b[0m\n\u001b[1;32m--> 620\u001b[1;33m             self.__threaded_polling(non_stop=non_stop, interval=interval, timeout=timeout, long_polling_timeout=long_polling_timeout,\n\u001b[0m\u001b[0;32m    621\u001b[0m                                     logger_level=logger_level, allowed_updates=allowed_updates)\n",
      "\u001b[1;32mE:\\APPs\\telebot\\pyTelegramBotAPI\\telebot\\__init__.py\u001b[0m in \u001b[0;36m__threaded_polling\u001b[1;34m(self, non_stop, interval, timeout, long_polling_timeout, logger_level, allowed_updates)\u001b[0m\n\u001b[0;32m    668\u001b[0m                         \u001b[0mlogger\u001b[0m\u001b[1;33m.\u001b[0m\u001b[0minfo\u001b[0m\u001b[1;33m(\u001b[0m\u001b[1;34m\"Waiting for {0} seconds until retry\"\u001b[0m\u001b[1;33m.\u001b[0m\u001b[0mformat\u001b[0m\u001b[1;33m(\u001b[0m\u001b[0merror_interval\u001b[0m\u001b[1;33m)\u001b[0m \u001b[1;33m+\u001b[0m \u001b[0mwarning\u001b[0m\u001b[1;33m)\u001b[0m\u001b[1;33m\u001b[0m\u001b[1;33m\u001b[0m\u001b[0m\n\u001b[1;32m--> 669\u001b[1;33m                         \u001b[0mtime\u001b[0m\u001b[1;33m.\u001b[0m\u001b[0msleep\u001b[0m\u001b[1;33m(\u001b[0m\u001b[0merror_interval\u001b[0m\u001b[1;33m)\u001b[0m\u001b[1;33m\u001b[0m\u001b[1;33m\u001b[0m\u001b[0m\n\u001b[0m\u001b[0;32m    670\u001b[0m                         \u001b[1;32mif\u001b[0m \u001b[0merror_interval\u001b[0m \u001b[1;33m*\u001b[0m \u001b[1;36m2\u001b[0m \u001b[1;33m<\u001b[0m \u001b[1;36m60\u001b[0m\u001b[1;33m:\u001b[0m\u001b[1;33m\u001b[0m\u001b[1;33m\u001b[0m\u001b[0m\n",
      "\u001b[1;31mKeyboardInterrupt\u001b[0m: ",
      "\nDuring handling of the above exception, another exception occurred:\n",
      "\u001b[1;31mAttributeError\u001b[0m                            Traceback (most recent call last)",
      "\u001b[1;32m~\\AppData\\Roaming\\Python\\Python39\\site-packages\\IPython\\core\\interactiveshell.py\u001b[0m in \u001b[0;36mshowtraceback\u001b[1;34m(self, exc_tuple, filename, tb_offset, exception_only, running_compiled_code)\u001b[0m\n\u001b[0;32m   2060\u001b[0m                         \u001b[1;31m# in the engines. This should return a list of strings.\u001b[0m\u001b[1;33m\u001b[0m\u001b[1;33m\u001b[0m\u001b[0m\n\u001b[1;32m-> 2061\u001b[1;33m                         \u001b[0mstb\u001b[0m \u001b[1;33m=\u001b[0m \u001b[0mvalue\u001b[0m\u001b[1;33m.\u001b[0m\u001b[0m_render_traceback_\u001b[0m\u001b[1;33m(\u001b[0m\u001b[1;33m)\u001b[0m\u001b[1;33m\u001b[0m\u001b[1;33m\u001b[0m\u001b[0m\n\u001b[0m\u001b[0;32m   2062\u001b[0m                     \u001b[1;32mexcept\u001b[0m \u001b[0mException\u001b[0m\u001b[1;33m:\u001b[0m\u001b[1;33m\u001b[0m\u001b[1;33m\u001b[0m\u001b[0m\n",
      "\u001b[1;31mAttributeError\u001b[0m: 'KeyboardInterrupt' object has no attribute '_render_traceback_'",
      "\nDuring handling of the above exception, another exception occurred:\n",
      "\u001b[1;31mTypeError\u001b[0m                                 Traceback (most recent call last)",
      "    \u001b[1;31m[... skipping hidden 1 frame]\u001b[0m\n",
      "\u001b[1;32m~\\AppData\\Roaming\\Python\\Python39\\site-packages\\IPython\\core\\interactiveshell.py\u001b[0m in \u001b[0;36mshowtraceback\u001b[1;34m(self, exc_tuple, filename, tb_offset, exception_only, running_compiled_code)\u001b[0m\n\u001b[0;32m   2061\u001b[0m                         \u001b[0mstb\u001b[0m \u001b[1;33m=\u001b[0m \u001b[0mvalue\u001b[0m\u001b[1;33m.\u001b[0m\u001b[0m_render_traceback_\u001b[0m\u001b[1;33m(\u001b[0m\u001b[1;33m)\u001b[0m\u001b[1;33m\u001b[0m\u001b[1;33m\u001b[0m\u001b[0m\n\u001b[0;32m   2062\u001b[0m                     \u001b[1;32mexcept\u001b[0m \u001b[0mException\u001b[0m\u001b[1;33m:\u001b[0m\u001b[1;33m\u001b[0m\u001b[1;33m\u001b[0m\u001b[0m\n\u001b[1;32m-> 2063\u001b[1;33m                         stb = self.InteractiveTB.structured_traceback(etype,\n\u001b[0m\u001b[0;32m   2064\u001b[0m                                             value, tb, tb_offset=tb_offset)\n\u001b[0;32m   2065\u001b[0m \u001b[1;33m\u001b[0m\u001b[0m\n",
      "\u001b[1;32m~\\AppData\\Roaming\\Python\\Python39\\site-packages\\IPython\\core\\ultratb.py\u001b[0m in \u001b[0;36mstructured_traceback\u001b[1;34m(self, etype, value, tb, tb_offset, number_of_lines_of_context)\u001b[0m\n\u001b[0;32m   1365\u001b[0m         \u001b[1;32melse\u001b[0m\u001b[1;33m:\u001b[0m\u001b[1;33m\u001b[0m\u001b[1;33m\u001b[0m\u001b[0m\n\u001b[0;32m   1366\u001b[0m             \u001b[0mself\u001b[0m\u001b[1;33m.\u001b[0m\u001b[0mtb\u001b[0m \u001b[1;33m=\u001b[0m \u001b[0mtb\u001b[0m\u001b[1;33m\u001b[0m\u001b[1;33m\u001b[0m\u001b[0m\n\u001b[1;32m-> 1367\u001b[1;33m         return FormattedTB.structured_traceback(\n\u001b[0m\u001b[0;32m   1368\u001b[0m             self, etype, value, tb, tb_offset, number_of_lines_of_context)\n\u001b[0;32m   1369\u001b[0m \u001b[1;33m\u001b[0m\u001b[0m\n",
      "\u001b[1;32m~\\AppData\\Roaming\\Python\\Python39\\site-packages\\IPython\\core\\ultratb.py\u001b[0m in \u001b[0;36mstructured_traceback\u001b[1;34m(self, etype, value, tb, tb_offset, number_of_lines_of_context)\u001b[0m\n\u001b[0;32m   1265\u001b[0m         \u001b[1;32mif\u001b[0m \u001b[0mmode\u001b[0m \u001b[1;32min\u001b[0m \u001b[0mself\u001b[0m\u001b[1;33m.\u001b[0m\u001b[0mverbose_modes\u001b[0m\u001b[1;33m:\u001b[0m\u001b[1;33m\u001b[0m\u001b[1;33m\u001b[0m\u001b[0m\n\u001b[0;32m   1266\u001b[0m             \u001b[1;31m# Verbose modes need a full traceback\u001b[0m\u001b[1;33m\u001b[0m\u001b[1;33m\u001b[0m\u001b[0m\n\u001b[1;32m-> 1267\u001b[1;33m             return VerboseTB.structured_traceback(\n\u001b[0m\u001b[0;32m   1268\u001b[0m                 \u001b[0mself\u001b[0m\u001b[1;33m,\u001b[0m \u001b[0metype\u001b[0m\u001b[1;33m,\u001b[0m \u001b[0mvalue\u001b[0m\u001b[1;33m,\u001b[0m \u001b[0mtb\u001b[0m\u001b[1;33m,\u001b[0m \u001b[0mtb_offset\u001b[0m\u001b[1;33m,\u001b[0m \u001b[0mnumber_of_lines_of_context\u001b[0m\u001b[1;33m\u001b[0m\u001b[1;33m\u001b[0m\u001b[0m\n\u001b[0;32m   1269\u001b[0m             )\n",
      "\u001b[1;32m~\\AppData\\Roaming\\Python\\Python39\\site-packages\\IPython\\core\\ultratb.py\u001b[0m in \u001b[0;36mstructured_traceback\u001b[1;34m(self, etype, evalue, etb, tb_offset, number_of_lines_of_context)\u001b[0m\n\u001b[0;32m   1122\u001b[0m         \u001b[1;34m\"\"\"Return a nice text document describing the traceback.\"\"\"\u001b[0m\u001b[1;33m\u001b[0m\u001b[1;33m\u001b[0m\u001b[0m\n\u001b[0;32m   1123\u001b[0m \u001b[1;33m\u001b[0m\u001b[0m\n\u001b[1;32m-> 1124\u001b[1;33m         formatted_exception = self.format_exception_as_a_whole(etype, evalue, etb, number_of_lines_of_context,\n\u001b[0m\u001b[0;32m   1125\u001b[0m                                                                tb_offset)\n\u001b[0;32m   1126\u001b[0m \u001b[1;33m\u001b[0m\u001b[0m\n",
      "\u001b[1;32m~\\AppData\\Roaming\\Python\\Python39\\site-packages\\IPython\\core\\ultratb.py\u001b[0m in \u001b[0;36mformat_exception_as_a_whole\u001b[1;34m(self, etype, evalue, etb, number_of_lines_of_context, tb_offset)\u001b[0m\n\u001b[0;32m   1080\u001b[0m \u001b[1;33m\u001b[0m\u001b[0m\n\u001b[0;32m   1081\u001b[0m \u001b[1;33m\u001b[0m\u001b[0m\n\u001b[1;32m-> 1082\u001b[1;33m         \u001b[0mlast_unique\u001b[0m\u001b[1;33m,\u001b[0m \u001b[0mrecursion_repeat\u001b[0m \u001b[1;33m=\u001b[0m \u001b[0mfind_recursion\u001b[0m\u001b[1;33m(\u001b[0m\u001b[0morig_etype\u001b[0m\u001b[1;33m,\u001b[0m \u001b[0mevalue\u001b[0m\u001b[1;33m,\u001b[0m \u001b[0mrecords\u001b[0m\u001b[1;33m)\u001b[0m\u001b[1;33m\u001b[0m\u001b[1;33m\u001b[0m\u001b[0m\n\u001b[0m\u001b[0;32m   1083\u001b[0m \u001b[1;33m\u001b[0m\u001b[0m\n\u001b[0;32m   1084\u001b[0m         \u001b[0mframes\u001b[0m \u001b[1;33m=\u001b[0m \u001b[0mself\u001b[0m\u001b[1;33m.\u001b[0m\u001b[0mformat_records\u001b[0m\u001b[1;33m(\u001b[0m\u001b[0mrecords\u001b[0m\u001b[1;33m,\u001b[0m \u001b[0mlast_unique\u001b[0m\u001b[1;33m,\u001b[0m \u001b[0mrecursion_repeat\u001b[0m\u001b[1;33m)\u001b[0m\u001b[1;33m\u001b[0m\u001b[1;33m\u001b[0m\u001b[0m\n",
      "\u001b[1;32m~\\AppData\\Roaming\\Python\\Python39\\site-packages\\IPython\\core\\ultratb.py\u001b[0m in \u001b[0;36mfind_recursion\u001b[1;34m(etype, value, records)\u001b[0m\n\u001b[0;32m    380\u001b[0m     \u001b[1;31m# first frame (from in to out) that looks different.\u001b[0m\u001b[1;33m\u001b[0m\u001b[1;33m\u001b[0m\u001b[0m\n\u001b[0;32m    381\u001b[0m     \u001b[1;32mif\u001b[0m \u001b[1;32mnot\u001b[0m \u001b[0mis_recursion_error\u001b[0m\u001b[1;33m(\u001b[0m\u001b[0metype\u001b[0m\u001b[1;33m,\u001b[0m \u001b[0mvalue\u001b[0m\u001b[1;33m,\u001b[0m \u001b[0mrecords\u001b[0m\u001b[1;33m)\u001b[0m\u001b[1;33m:\u001b[0m\u001b[1;33m\u001b[0m\u001b[1;33m\u001b[0m\u001b[0m\n\u001b[1;32m--> 382\u001b[1;33m         \u001b[1;32mreturn\u001b[0m \u001b[0mlen\u001b[0m\u001b[1;33m(\u001b[0m\u001b[0mrecords\u001b[0m\u001b[1;33m)\u001b[0m\u001b[1;33m,\u001b[0m \u001b[1;36m0\u001b[0m\u001b[1;33m\u001b[0m\u001b[1;33m\u001b[0m\u001b[0m\n\u001b[0m\u001b[0;32m    383\u001b[0m \u001b[1;33m\u001b[0m\u001b[0m\n\u001b[0;32m    384\u001b[0m     \u001b[1;31m# Select filename, lineno, func_name to track frames with\u001b[0m\u001b[1;33m\u001b[0m\u001b[1;33m\u001b[0m\u001b[0m\n",
      "\u001b[1;31mTypeError\u001b[0m: object of type 'NoneType' has no len()"
     ]
    }
   ],
   "source": [
    "# Este é o fechamento do código, com ele seu código responderá infinitamente ao Bot\n",
    "bot.infinity_polling()"
   ]
  },
  {
   "cell_type": "markdown",
   "id": "60e6e7d1",
   "metadata": {},
   "source": [
    "#### [Manifesto para Desenvolvimento Ágil de Software](https://agilemanifesto.org/iso/ptbr/manifesto.html)\n",
    "\n",
    "\n",
    "\n",
    "_Estamos descobrindo maneiras melhores de desenvolver\n",
    "software, fazendo-o nós mesmos e ajudando outros a\n",
    "fazerem o mesmo. Através deste trabalho, passamos a valorizar:_\n",
    "\n",
    "_Indivíduos e interações mais que processos e ferramentas\n",
    "Software em funcionamento mais que documentação abrangente\n",
    "Colaboração com o cliente mais que negociação de contratos\n",
    "Responder a mudanças mais que seguir um plano_\n",
    "\n",
    "_Ou seja, mesmo havendo valor nos itens à direita,\n",
    "valorizamos mais os itens à esquerda._"
   ]
  }
 ],
 "metadata": {
  "kernelspec": {
   "display_name": "Python 3 (ipykernel)",
   "language": "python",
   "name": "python3"
  },
  "language_info": {
   "codemirror_mode": {
    "name": "ipython",
    "version": 3
   },
   "file_extension": ".py",
   "mimetype": "text/x-python",
   "name": "python",
   "nbconvert_exporter": "python",
   "pygments_lexer": "ipython3",
   "version": "3.9.7"
  }
 },
 "nbformat": 4,
 "nbformat_minor": 5
}
